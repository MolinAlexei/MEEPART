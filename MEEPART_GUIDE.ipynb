{
 "cells": [
  {
   "cell_type": "markdown",
   "metadata": {},
   "source": [
    "# MEEPART 2D Demo"
   ]
  },
  {
   "cell_type": "markdown",
   "metadata": {},
   "source": [
    "Welcome to the guide of MEEPART : MEEP for the Analysis of Refractor Telescopes.\n",
    "It is a step-by-step guide through the main functions of MEEPART in 2D: \n",
    "- Obtaining the far field beam of a basic optical system\n",
    "- Adding various types of defects to the elements of the optical system and studying their effect on the far field beam\n",
    "\n",
    "We begin by importing basic tools, as numpy, matplotlib for plotting and of course meep_optics.\n",
    "\n",
    "**This guide is only for the 2D version of MEEPART.**"
   ]
  },
  {
   "cell_type": "code",
   "execution_count": null,
   "metadata": {},
   "outputs": [],
   "source": [
    "import numpy as np\n",
    "import matplotlib.pyplot as plt\n",
    "import meep_optics as mo"
   ]
  },
  {
   "cell_type": "markdown",
   "metadata": {},
   "source": [
    "## Defining the system\n",
    "\n",
    "### Step 1 : Defining the overall system\n",
    "\n",
    "*Note that we define the systems with an optical axis along x, the aperture of the telescope being on the left (x=0) and the image plane on the right (x = system size along x).*\n",
    "\n",
    "First, we define the optical system by giving it a name, and a size : "
   ]
  },
  {
   "cell_type": "code",
   "execution_count": null,
   "metadata": {},
   "outputs": [],
   "source": [
    "opt_sys = mo.OpticalSystem('Example Telescope')"
   ]
  },
  {
   "cell_type": "markdown",
   "metadata": {},
   "source": [
    "In the following demonstration, we will be using a system of which we know the physical size. We also know that the system has been extensively studied and performs in the selected range of wavelengths.  "
   ]
  },
  {
   "cell_type": "markdown",
   "metadata": {},
   "source": [
    "**A note on the size and units:** Maxwell's equations are scale invariant, and this means that MEEP is too. MEEP is made such that c = 1. This means that when specifying dimensions in MEEP (and MEEPART), you have to implicitly choose a length unit to relate to your real units for frequencies and wavelengths studied. There is fortunately a helper function that gives you all the useful information on your system when provided a unit to the meep unit of distance.\n",
    "\n",
    "Below is an example where we chose the millimeter for the MEEP unit distance, and want to study a 100GHz frequency. The system we want to study is 800mm x 300mm in size. First, we set the size."
   ]
  },
  {
   "cell_type": "code",
   "execution_count": null,
   "metadata": {},
   "outputs": [],
   "source": [
    "opt_sys.set_size(800,300)"
   ]
  },
  {
   "cell_type": "markdown",
   "metadata": {},
   "source": [
    "Then, we use the helper function, which returns the real wavelength in meters, the wavelength in MEEP units, the frequency in MEEP units and the corresponding system size."
   ]
  },
  {
   "cell_type": "code",
   "execution_count": null,
   "metadata": {},
   "outputs": [],
   "source": [
    "opt_sys.sys_info(dist_unit = 1e-3, real_freq = 100e9)"
   ]
  },
  {
   "cell_type": "markdown",
   "metadata": {},
   "source": [
    "This helps choosing the resolution of the discretization of your system, in points/(meep unit distance). The precision of your computations will increase with resolution. A recommended minimum for wavelength in meep units times resolution is 8. \n",
    "For the example above, we then know that choosing a resolution of 4 should get the job done, because wavelength times resolution is 12.\n",
    "\n",
    "If the required resolution gets to lower than 1 or to high numbers (20+ or more, but this can be extended), you may reconsider your chosen unit of distance (recall that changing it then requires to change the system size, so that your system is always the right physical dimension)."
   ]
  },
  {
   "cell_type": "markdown",
   "metadata": {},
   "source": [
    "### Step 2 : Defining the lenses\n",
    "Let's add elements. We begin with two lenses which we know form a focused system.\n",
    "The parameters to define a lens are : \n",
    "- r1 the left surface radius (np.inf means it's a flat surface)\n",
    "- r2 the right surface radius (np.inf means it's a flat surface)\n",
    "- c1 the left surface aspheric parameter\n",
    "- c2 the right surface aspheric parameter\n",
    "- diameter the diameter of the lens\n",
    "- thick the thickness of the lens on the optical axis\n",
    "- x the x position of the intersection of the left surface with the optical axis\n",
    "- n_refr the index of refraction of the lenses (by default set to HDPE n = 1.52)\n",
    "\n",
    "The lenses are centered on the optical axis.\n",
    "\n",
    "The surface equation used here is :\n",
    "$x = \\frac{\\frac{y^2}{R}}{1+\\sqrt{1-(1+k)\\frac{y^2}{R^2}}}$ \n",
    "with $x$ the sag from the plane normal to the optical axis, $y$ the vertical distance from the plane, $R$ the surface radius, $k$ the aspheric parameter."
   ]
  },
  {
   "cell_type": "code",
   "execution_count": null,
   "metadata": {},
   "outputs": [],
   "source": [
    "lens1 = mo.AsphericLens(name = 'Lens 1', \n",
    "                     r1 = 327.365, \n",
    "                     r2 = np.inf, \n",
    "                     c1 = -0.66067, \n",
    "                     c2 = 0, \n",
    "                     thick = 40,\n",
    "                     diameter = 300.,\n",
    "                     x = 140.)\n",
    "\n",
    "lens2 = mo.AsphericLens(name = 'Lens 2', \n",
    "                     r1 = 269.190, \n",
    "                     r2 = 6398.02, \n",
    "                     c1 = -2.4029, \n",
    "                     c2 = 1770.36,\n",
    "                     thick = 40,\n",
    "                     diameter = 300.,\n",
    "                     x = 549.408)\n",
    "print(lens1)\n",
    "print(lens2)"
   ]
  },
  {
   "cell_type": "markdown",
   "metadata": {},
   "source": [
    "### Step 2 : Define the aperture stop\n",
    "The parameters to define an aperture stop are :\n",
    "- pos_x the position along the optical axis\n",
    "- diameter the diameter of the opening\n",
    "- thickness the thickness of the aperture stop slab\n",
    "- n_refr the index of refraction of the material\n",
    "- conductivity the conductivity of the material\n",
    "\n",
    "Here we chose to make it a metal, with a high conductivity."
   ]
  },
  {
   "cell_type": "code",
   "execution_count": null,
   "metadata": {},
   "outputs": [],
   "source": [
    "aperture_stop = mo.ApertureStop(name = 'Aperture Stop',\n",
    "                                 pos_x = 10,\n",
    "                                 diameter = 200,\n",
    "                                 thickness = 2,\n",
    "                                 n_refr = 1.1, \n",
    "                                 conductivity = 1e7)\n",
    "print(aperture_stop)"
   ]
  },
  {
   "cell_type": "markdown",
   "metadata": {},
   "source": [
    "### Step 3 : Define the image plane\n",
    "The final element we need is an image plane, defining where the detector(s) will lie. The parameters to define an image plane are :\n",
    "- pos_x the position along the optical axis\n",
    "- diameter the size of the image plane along y (orhtogonal to the optical axis)\n",
    "- thickness the thickness of the slab\n",
    "- n_refr the index of refraction of the material\n",
    "- conductivity the conductivity of the material\n",
    "\n",
    "Here we choose it to be a dielectric"
   ]
  },
  {
   "cell_type": "code",
   "execution_count": null,
   "metadata": {},
   "outputs": [],
   "source": [
    "image_plane = mo.ImagePlane(name = 'Image Plane',\n",
    "                         pos_x = 10+714.704,\n",
    "                         diameter = 300,\n",
    "                         thickness = 2,\n",
    "                         n_refr = 1.1, \n",
    "                         conductivity = 0.01)\n",
    "print(image_plane)"
   ]
  },
  {
   "cell_type": "markdown",
   "metadata": {},
   "source": [
    "Now add the components to the optical system :"
   ]
  },
  {
   "cell_type": "code",
   "execution_count": null,
   "metadata": {},
   "outputs": [],
   "source": [
    "opt_sys.add_component(lens1)\n",
    "opt_sys.add_component(lens2)\n",
    "opt_sys.add_component(aperture_stop)\n",
    "opt_sys.add_component(image_plane)"
   ]
  },
  {
   "cell_type": "markdown",
   "metadata": {},
   "source": [
    "We can check that everything's there :"
   ]
  },
  {
   "cell_type": "code",
   "execution_count": null,
   "metadata": {},
   "outputs": [],
   "source": [
    "opt_sys.list_components()"
   ]
  },
  {
   "cell_type": "markdown",
   "metadata": {},
   "source": [
    "We know the wavelengths at which our system will operate, let's choose one that is large, allowing us to lower the resolution and thus increase the calculation's speed."
   ]
  },
  {
   "cell_type": "code",
   "execution_count": null,
   "metadata": {},
   "outputs": [],
   "source": [
    "wavelength = 10"
   ]
  },
  {
   "cell_type": "markdown",
   "metadata": {},
   "source": [
    "The boundary condition in our study is a Perfectly Matched Layer (a perfect absorber). Its thickness is ideally set to be a half wavelength."
   ]
  },
  {
   "cell_type": "code",
   "execution_count": null,
   "metadata": {},
   "outputs": [],
   "source": [
    "dpml = 5"
   ]
  },
  {
   "cell_type": "markdown",
   "metadata": {},
   "source": [
    "We can assemble the system, with an arbitrary resolution (remember that wavelength/resolution should be at least > 8 in the medium with the highest index of refraction) :"
   ]
  },
  {
   "cell_type": "code",
   "execution_count": null,
   "metadata": {},
   "outputs": [],
   "source": [
    "opt_sys.assemble_system(dpml = dpml, res = 2)"
   ]
  },
  {
   "cell_type": "markdown",
   "metadata": {},
   "source": [
    "Now, we just need to write the h5 file containing the map so that it's later read by the sim."
   ]
  },
  {
   "cell_type": "code",
   "execution_count": null,
   "metadata": {},
   "outputs": [],
   "source": [
    "opt_sys.write_h5file()"
   ]
  },
  {
   "cell_type": "markdown",
   "metadata": {},
   "source": [
    "## Running the analysis"
   ]
  },
  {
   "cell_type": "markdown",
   "metadata": {},
   "source": [
    "Define the simulation from the optical system :"
   ]
  },
  {
   "cell_type": "code",
   "execution_count": null,
   "metadata": {},
   "outputs": [],
   "source": [
    "sim = mo.Sim(opt_sys)\n",
    "print(sim)"
   ]
  },
  {
   "cell_type": "markdown",
   "metadata": {},
   "source": [
    "Before anything, let's set the verbosity of MEEP to 0, thus avoiding lengthy prints which are not useful when not debugging."
   ]
  },
  {
   "cell_type": "code",
   "execution_count": null,
   "metadata": {},
   "outputs": [],
   "source": [
    "sim.set_verbosity(0)"
   ]
  },
  {
   "cell_type": "markdown",
   "metadata": {},
   "source": [
    "Define the analysis of the optical system :"
   ]
  },
  {
   "cell_type": "code",
   "execution_count": null,
   "metadata": {},
   "outputs": [],
   "source": [
    "analysis = mo.Analysis(sim)"
   ]
  },
  {
   "cell_type": "markdown",
   "metadata": {},
   "source": [
    "The source is a gaussian source at the image plane. Its beam waist needs to be specified. To decide on that, there is a helper function that converts taper and taper angle to beam waist at the given wavelength. Here are two examples, at a wavelength of 3 meep units, and a taper angle of 5 deg."
   ]
  },
  {
   "cell_type": "code",
   "execution_count": null,
   "metadata": {},
   "outputs": [],
   "source": [
    "sim.help_gaussian_beam(5, 3, taper = -8)\n",
    "sim.help_gaussian_beam(5, 3, beam_waist = 10.5)"
   ]
  },
  {
   "cell_type": "markdown",
   "metadata": {},
   "source": [
    "The analysis is done in the time reverse sense : the electromagnetic field is propagated from a gaussian beam source at the image plane up until the aperture.\n",
    "\n",
    "We have to provide a runtime, in MEEP units (c=1), the system size is enough to let the EM field propagate from the source to the aperture."
   ]
  },
  {
   "cell_type": "code",
   "execution_count": null,
   "metadata": {},
   "outputs": [],
   "source": [
    "analysis.image_plane_beams(wvl = wavelength, simres = 2, runtime = 800, beam_w0 = 20.)"
   ]
  },
  {
   "cell_type": "markdown",
   "metadata": {},
   "source": [
    "We can retrieve the far field beam with the following function, to which we need to provide the diameter of the aperture."
   ]
  },
  {
   "cell_type": "code",
   "execution_count": null,
   "metadata": {},
   "outputs": [],
   "source": [
    "freq, beam = analysis.beam_FT()"
   ]
  },
  {
   "cell_type": "markdown",
   "metadata": {},
   "source": [
    "We can plot the system to check the right disposition of the elements and the good propagation of the electric field : "
   ]
  },
  {
   "cell_type": "code",
   "execution_count": null,
   "metadata": {},
   "outputs": [],
   "source": [
    "%matplotlib inline\n",
    "analysis.sim.plot_efield()"
   ]
  },
  {
   "cell_type": "markdown",
   "metadata": {},
   "source": [
    "(Note : if the plot isn't displayed, run the line %matplolib inline again)"
   ]
  },
  {
   "cell_type": "markdown",
   "metadata": {},
   "source": [
    "We can now plot the far field beam."
   ]
  },
  {
   "cell_type": "code",
   "execution_count": null,
   "metadata": {},
   "outputs": [],
   "source": [
    "analysis.plotting(freq, beam, wavelength, ylim = -30)"
   ]
  },
  {
   "cell_type": "markdown",
   "metadata": {},
   "source": [
    "We can add some information to the plot, like the beam solid angle and the best fit gaussian full width at half maximum."
   ]
  },
  {
   "cell_type": "code",
   "execution_count": null,
   "metadata": {},
   "outputs": [],
   "source": [
    "analysis.plotting(freq, beam, wavelength, ylim=-30, legend = ['Test plot'], print_solid_angle = True, print_fwhm = True)"
   ]
  },
  {
   "cell_type": "markdown",
   "metadata": {},
   "source": [
    "It is possible to obtain the far field beam for a different sources with different properties, which are wavelength, position on image plane and beam waist. Let's look at different sources at the same time."
   ]
  },
  {
   "cell_type": "code",
   "execution_count": null,
   "metadata": {},
   "outputs": [],
   "source": [
    "analysis.image_plane_beams(wvl = [10, 12, 8],\n",
    "                           simres = 1, \n",
    "                           runtime = 800,\n",
    "                           y_source = [0., 50, 100.],\n",
    "                           beam_w0 = [10, 24, 15])\n",
    "\n",
    "#freq, beam = analysis.beam_FT()"
   ]
  },
  {
   "cell_type": "code",
   "execution_count": null,
   "metadata": {
    "scrolled": false
   },
   "outputs": [],
   "source": [
    "analysis.plotting(freq, beam, wavelength, ylim = -30, legend = ['wvl 10', 'wvl 12', 'wvl 8'])"
   ]
  },
  {
   "cell_type": "markdown",
   "metadata": {},
   "source": [
    "Note that a full simulation is required for each beam, which makes the execution take a long time. This is why it is intersting to put y_max to be the edge of the image plane and N_beams = 2 to obtain only the two extreme situations, beam on axis and beam as far off axis as can be."
   ]
  }
 ],
 "metadata": {
  "kernelspec": {
   "display_name": "Python 3",
   "language": "python",
   "name": "python3"
  },
  "language_info": {
   "codemirror_mode": {
    "name": "ipython",
    "version": 3
   },
   "file_extension": ".py",
   "mimetype": "text/x-python",
   "name": "python",
   "nbconvert_exporter": "python",
   "pygments_lexer": "ipython3",
   "version": "3.7.8"
  }
 },
 "nbformat": 4,
 "nbformat_minor": 4
}
